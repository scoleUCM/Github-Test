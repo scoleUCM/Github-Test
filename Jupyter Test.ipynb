{
 "cells": [
  {
   "cell_type": "code",
   "execution_count": 1,
   "metadata": {},
   "outputs": [
    {
     "name": "stdout",
     "output_type": "stream",
     "text": [
      "Spencer A. Cole\n"
     ]
    }
   ],
   "source": [
    "name = 'Spencer A. Cole'\n",
    "print(name)"
   ]
  },
  {
   "cell_type": "code",
   "execution_count": 2,
   "metadata": {},
   "outputs": [
    {
     "data": {
      "text/plain": [
       "'/Users/SpencerCole/Python Notebooks/Learning Python'"
      ]
     },
     "execution_count": 2,
     "metadata": {},
     "output_type": "execute_result"
    }
   ],
   "source": [
    "pwd"
   ]
  },
  {
   "cell_type": "code",
   "execution_count": 3,
   "metadata": {},
   "outputs": [
    {
     "name": "stdout",
     "output_type": "stream",
     "text": [
      "John Doe\n"
     ]
    }
   ],
   "source": [
    "name2 = 'John Doe'\n",
    "print(name2)"
   ]
  },
  {
   "cell_type": "code",
   "execution_count": 4,
   "metadata": {},
   "outputs": [
    {
     "name": "stdout",
     "output_type": "stream",
     "text": [
      "John Doe\n"
     ]
    }
   ],
   "source": [
    "if(name2 == name):\n",
    "    print(name)\n",
    "else:\n",
    "    print(name2)"
   ]
  },
  {
   "cell_type": "code",
   "execution_count": 5,
   "metadata": {},
   "outputs": [
    {
     "name": "stdout",
     "output_type": "stream",
     "text": [
      "2 * 5 = 10\n",
      "5 / 3 = 1.6666666666666667\n",
      "10 + 15 = 25\n",
      "12 - 3 = 9\n",
      "5**2 = 25\n"
     ]
    }
   ],
   "source": [
    "print('2 * 5 =',2*5)\n",
    "print('5 / 3 =', 5/3)\n",
    "print('10 + 15 =', 10+15)\n",
    "print('12 - 3 =',12-3)\n",
    "print('5**2 =',5**2)"
   ]
  },
  {
   "cell_type": "markdown",
   "metadata": {},
   "source": [
    "Now we will experiment with some string formatting attempts. When naming string variables, need to include single quotes to denote that it is a string. Numerical values will be identified as such, it seems."
   ]
  },
  {
   "cell_type": "code",
   "execution_count": 6,
   "metadata": {},
   "outputs": [
    {
     "name": "stdout",
     "output_type": "stream",
     "text": [
      "Now we will experiment with some string formatting attempts. This is a string.\n",
      "Jerry is a 25 year old male, whose occupation is that of a plumber, and who resides in the United States of America.\n",
      "\n",
      "\n",
      "Now, Jerry will be going to the store. he is going to buy 6 items, which will be apples, oranges, bananas, lettuce, butter and bread.\n",
      "Jerry has purchased butter.\n"
     ]
    }
   ],
   "source": [
    "test_string = 'This is a string'\n",
    "print('Now we will experiment with some string formatting attempts. %s.' %test_string)\n",
    "name_test = 'Jerry'\n",
    "age_test = 25\n",
    "gender_test = 'male'\n",
    "location_test = 'United States of America'\n",
    "career_test = 'plumber'\n",
    "print('%s is a %d year old %s, whose occupation is that of a %s, and who resides in the %s.' %(name_test, age_test, gender_test, career_test, location_test))\n",
    "print('\\n')\n",
    "list_test = ['apples', 'oranges', 'bananas', 'lettuce', 'butter', 'bread']\n",
    "num_list = len(list_test)\n",
    "if(gender_test == 'female'):\n",
    "    pronoun_cond = 'she'\n",
    "else:\n",
    "    pronoun_cond = 'he'\n",
    "print('Now, %s will be going to the store. %s is going to buy %d items, which will be %s, %s, %s, %s, %s and %s.' %(name_test, pronoun_cond, num_list, list_test[0], list_test[1], list_test[2], list_test[3], list_test[4], list_test[5]))\n",
    "if ('butter' in list_test):\n",
    "    print('%s has purchased %s.' %(name_test, list_test[4]))\n",
    "else:\n",
    "    print('%s did not purchase %s.' %(name_test, list_test[4]))"
   ]
  },
  {
   "cell_type": "markdown",
   "metadata": {},
   "source": [
    "Since we have practiced some string printing and lists with strings, let's try some list manipulation with numericals and loops/conditionals."
   ]
  },
  {
   "cell_type": "code",
   "execution_count": 7,
   "metadata": {},
   "outputs": [
    {
     "name": "stdout",
     "output_type": "stream",
     "text": [
      "The length of list_a is 10\n",
      "[30, 24, 26, 14, 6, 36, 402, 20064, 134, 156]\n",
      "[15, 12, 13, 7, 3, 18, 201, 10032, 67, 78, 30, 24, 26, 14, 6, 36, 402, 20064, 134, 156]\n",
      "[3, 6, 7, 12, 13, 14, 15, 18, 24, 26, 30, 36, 67, 78, 134, 156, 201, 402, 10032, 20064]\n",
      "[20064, 10032, 402, 201, 156, 134, 78, 67, 36, 30, 26, 24, 18, 15, 14, 13, 12, 7, 6, 3]\n",
      "\n",
      "\n",
      "Now we reset the original list_c to its proper ordering to further manipulate.\n",
      "The original list_c is given by: [15, 12, 13, 7, 3, 18, 201, 10032, 67, 78, 30, 24, 26, 14, 6, 36, 402, 20064, 134, 156]\n",
      "Check that list_c has length of the original list_c we had from adding list_a and list_b.\n",
      "The length is correct.\n",
      "\n",
      "\n",
      "Check the values of each element in list_c with those of list_a and list_b.\n",
      "Element  1 is proper.\n",
      "Element  2 is proper.\n",
      "Element  3 is proper.\n",
      "Element  4 is proper.\n",
      "Element  5 is proper.\n",
      "Element  6 is proper.\n",
      "Element  7 is proper.\n",
      "Element  8 is proper.\n",
      "Element  9 is proper.\n",
      "Element  10 is proper.\n",
      "Element  11 is proper.\n",
      "Element  12 is proper.\n",
      "Element  13 is proper.\n",
      "Element  14 is proper.\n",
      "Element  15 is proper.\n",
      "Element  16 is proper.\n",
      "Element  17 is proper.\n",
      "Element  18 is proper.\n",
      "Element  19 is proper.\n",
      "Element  20 is proper.\n",
      "\n",
      "\n",
      "Now we check that each element of list_c is unique, as it should be, given how we created list_c.\n",
      "Element 1 is unique.\n",
      "Element 2 is unique.\n",
      "Element 3 is unique.\n",
      "Element 4 is unique.\n",
      "Element 5 is unique.\n",
      "Element 6 is unique.\n",
      "Element 7 is unique.\n",
      "Element 8 is unique.\n",
      "Element 9 is unique.\n",
      "Element 10 is unique.\n",
      "Element 11 is unique.\n",
      "Element 12 is unique.\n",
      "Element 13 is unique.\n",
      "Element 14 is unique.\n",
      "Element 15 is unique.\n",
      "Element 16 is unique.\n",
      "Element 17 is unique.\n",
      "Element 18 is unique.\n",
      "Element 19 is unique.\n",
      "Element 20 is unique.\n",
      "The list contains only unique elements.\n"
     ]
    }
   ],
   "source": [
    "list_a = [15, 12, 13, 7, 3, 18, 201, 10032, 67, 78]\n",
    "list_a_len = len(list_a)\n",
    "print('The length of list_a is', list_a_len)\n",
    "list_b = []\n",
    "for i in list_a:\n",
    "    list_b.append(i*2)\n",
    "print(list_b)\n",
    "list_c = list_a + list_b\n",
    "print(list_c)\n",
    "list_c.sort()\n",
    "print(list_c)\n",
    "list_c.sort(reverse = True)\n",
    "print(list_c)\n",
    "print('\\n')\n",
    "print('Now we reset the original list_c to its proper ordering to further manipulate.')\n",
    "list_c = list_a + list_b\n",
    "print('The original list_c is given by:', list_c)\n",
    "print('Check that list_c has length of the original list_c we had from adding list_a and list_b.')\n",
    "if (len(list_a) + len(list_b) == len(list_c)):\n",
    "    print('The length is correct.')\n",
    "else:\n",
    "    print('Try again.')\n",
    "print('\\n')\n",
    "print('Check the values of each element in list_c with those of list_a and list_b.')\n",
    "for i in list_c:\n",
    "    if (i <= len(list_a)):\n",
    "        if (list_c[i] == list_a[i]):\n",
    "            print('Element ',list_c.index(i)+1, 'is proper.')\n",
    "        else:\n",
    "            print('Element ',list_c.index(i)+1, 'is NOT proper.')\n",
    "    elif(i > len(list_a)):\n",
    "        print('Element ',list_c.index(i)+1, 'is proper.')\n",
    "    else:\n",
    "        print('Element ',list_c.index(i)+1, 'is NOT proper.')\n",
    "print('\\n')\n",
    "print('Now we check that each element of list_c is unique, as it should be, given how we created list_c.')\n",
    "list_unq = []\n",
    "for i in list_c:\n",
    "    if (list_c.count(i) == 1):\n",
    "        print('Element',list_c.index(i)+1,'is unique.')\n",
    "        list_unq.append(1)\n",
    "    else:\n",
    "        print('Element',list_c.index(i)+1,'is NOT unique.')\n",
    "        list_unq.append(0)\n",
    "if (list_unq.count(0)>= 1):\n",
    "    print('The list contains non-unique elements.')\n",
    "else: \n",
    "    print('The list contains only unique elements.')"
   ]
  },
  {
   "cell_type": "markdown",
   "metadata": {},
   "source": [
    "Following this, we will make some more calculation-based manipulations using lists."
   ]
  },
  {
   "cell_type": "code",
   "execution_count": 8,
   "metadata": {},
   "outputs": [
    {
     "name": "stdout",
     "output_type": "stream",
     "text": [
      "List #1 is given by  [0, 1, 2, 3, 4, 5, 6, 7, 8, 9, 10, 11, 12, 13, 14]\n",
      "List #2 is given by  [14, 13, 12, 11, 10, 9, 8, 7, 6, 5, 4, 3, 2, 1, 0]\n",
      "List #3 is given by  [0, 13, 24, 33, 40, 45, 48, 49, 48, 45, 40, 33, 24, 13, 0]\n"
     ]
    }
   ],
   "source": [
    "calc_list = []\n",
    "for i in range (0,15):\n",
    "    calc_list.append(i)\n",
    "print('List #1 is given by ',calc_list)\n",
    "calc_list2 = []\n",
    "for i in range (0,15):\n",
    "    calc_list2.append(14-i)\n",
    "print('List #2 is given by ',calc_list2)\n",
    "calc_list3 = []\n",
    "for i in range (0,15):\n",
    "    calc_list3.append(i)\n",
    "    calc_list3[i] = calc_list[i]*calc_list2[i]\n",
    "print('List #3 is given by ',calc_list3)"
   ]
  },
  {
   "cell_type": "markdown",
   "metadata": {},
   "source": [
    "Now for a more applied example:"
   ]
  },
  {
   "cell_type": "code",
   "execution_count": 3,
   "metadata": {
    "scrolled": false
   },
   "outputs": [
    {
     "name": "stdout",
     "output_type": "stream",
     "text": [
      "['$/acre', 290.4000000000001, 3978.0299999999997, 4.039999999999964, 621.49, 2532.4700000000003, 419.8800000000001, 8855.1, -21.340000000000032, 1266.7600000000002, 7603.3099999999995, 20.449999999999932, 13528.55, 262.25, 9338.24, 1738.0, 264.7600000000002, 251.15999999999997, 599.0, 6343.68]\n",
      "['$/acre', 83.94000000000005, 2945.1255, -202.81600000000003, 347.21649999999977, 1434.8494999999994, 214.24800000000005, 7243.785, -138.58900000000006, 471.4960000000001, 5868.2135, -81.16750000000002, 10752.717499999999, 116.56249999999989, 7589.653999999999, 1140.3999999999996, 9.04600000000005, 160.53599999999994, 304.70000000000005, 5006.778]\n",
      "['$/acre', -26.172000000000025, 2394.2430999999997, -313.1392000000001, 200.93730000000005, 849.4519, 104.57760000000007, 6384.417000000001, -201.1218, 47.35520000000042, 4942.8287, -135.36350000000004, 9272.2735, 38.86250000000007, 6657.0747999999985, 821.6799999999998, -127.33479999999986, 112.20319999999998, 147.74000000000024, 4293.763600000001]\n",
      "['$/acre', 180.28800000000024, 3427.1476000000002, -106.28320000000008, 475.21079999999984, 1947.072399999999, 310.20960000000014, 7995.732000000002, -83.87279999999998, 842.6192000000001, 6677.9252000000015, -33.74599999999998, 12048.106, 184.55000000000007, 8405.6608, 1419.2800000000002, 128.3792000000003, 202.82719999999995, 442.0400000000002, 5630.6656]\n",
      "[290.4000000000001, 83.94000000000005, -26.172000000000025, 180.28800000000024]\n",
      "The more profitable year for alfalfa production is 2013\n",
      "[3978.0299999999997, 2945.1255, 2394.2430999999997, 3427.1476000000002]\n",
      "The more profitable year for almond and pistachio production is 2013\n"
     ]
    }
   ],
   "source": [
    "#We define a list of 20 crop groups given by:\n",
    "cg_list = ['ALFAL','ALPIS','CORN','COTTN','CUCUR','DRYBN','FRTOM','GRAIN','ONGAR','OTHDEC','OTHFLD','OTHTRK','PASTR','POTATO','PRTOM','RICE','SAFLR','SBEET','SUBTRP','VINE']\n",
    "#We give parameters relating to these crop groups by year, focusing on the effects of the 2014-2016 drought.\n",
    "#For each such list, their values correspond with the index of the crop group list. For example, the first element of each list corresponds to ALFAL (alfalfa).\n",
    "#The first element of each list gives the associated unit of the values listed. \n",
    "crpyld_list2013 = ['ton/acre',7.4,0.97,27.04,0.83,20.27,1.36,18.30,3.23,20.71,6.29,7.97,14.29,5.25,24.49,49.80,4.36,1.18,43.60,16.03,11.44]\n",
    "crpyld_list2014 = ['ton/acre']\n",
    "for i in range(0,21):\n",
    "    if(i == 0):\n",
    "        continue\n",
    "    crpyld_list2014.append(i)\n",
    "    crpyld_list2014[i] = 0.85*crpyld_list2013[i]\n",
    "#print(crpyld_list2014)\n",
    "crpyld_list2015 = ['ton/acre']\n",
    "for i in range(0,21):\n",
    "    if(i == 0):\n",
    "        continue\n",
    "    crpyld_list2015.append(i)\n",
    "    crpyld_list2015[i] = 0.77*crpyld_list2013[i]\n",
    "#print(crpyld_list2015)\n",
    "crpyld_list2016 = ['ton/acre']\n",
    "for i in range(0,21):\n",
    "    if(i == 0):\n",
    "        continue\n",
    "    crpyld_list2016.append(i)\n",
    "    crpyld_list2016[i] = 0.92*crpyld_list2013[i]\n",
    "#print(crpyld_list2016)\n",
    "\n",
    "prdcst_list2013 = ['$/acre',1086,2908,1375,1207,4785,951,1887,803,4035,3964,657,4977,709,2319,2246,1440,353,1363,2569,2624]\n",
    "prdcst_list2014 = prdcst_list2013\n",
    "prdcst_list2015 = prdcst_list2013\n",
    "prdcst_list2016 = prdcst_list2013\n",
    "\n",
    "mrktval_list2013 = ['$/ton',186,7099,51,2203,361,1008,587,242,256,1839,85,1295,185,476,80,391,512,45,556,500]\n",
    "mrktval_list2014 = mrktval_list2013\n",
    "mrktval_list2015 = mrktval_list2013\n",
    "mrktval_list2016 = mrktval_list2013\n",
    "\n",
    "#wateryr = input('What water year would you like to analyze? ')\n",
    "#wateryr = int(wateryr)\n",
    "#print('The year %d has been chosen.' % wateryr)\n",
    "#profit = (yield)(market value) - (production cost); in units of $/acre\n",
    "prft_fnct2013 = []\n",
    "prft_fnct2014 = []\n",
    "prft_fnct2015 = []\n",
    "prft_fnct2016 = []\n",
    "for i in range(0,20):\n",
    "    prft_fnct2013.append(i)\n",
    "    if(i == 0):\n",
    "        prft_fnct2013[i] = '$/acre'\n",
    "        continue\n",
    "    prft_fnct2013[i] = crpyld_list2013[i]*mrktval_list2013[i]-prdcst_list2013[i]\n",
    "print(prft_fnct2013)\n",
    "for i in range(0,20):\n",
    "    prft_fnct2014.append(i)\n",
    "    if(i == 0):\n",
    "        prft_fnct2014[i] = '$/acre'\n",
    "        continue\n",
    "    prft_fnct2014[i] = crpyld_list2014[i]*mrktval_list2014[i]-prdcst_list2014[i]\n",
    "print(prft_fnct2014)\n",
    "for i in range(0,20):\n",
    "    prft_fnct2015.append(i)\n",
    "    if(i == 0):\n",
    "        prft_fnct2015[i] = '$/acre'\n",
    "        continue\n",
    "    prft_fnct2015[i] = crpyld_list2015[i]*mrktval_list2015[i]-prdcst_list2015[i]\n",
    "print(prft_fnct2015)\n",
    "for i in range(0,20):\n",
    "    prft_fnct2016.append(i)\n",
    "    if(i == 0):\n",
    "        prft_fnct2016[i] = '$/acre'\n",
    "        continue\n",
    "    prft_fnct2016[i] = crpyld_list2016[i]*mrktval_list2016[i]-prdcst_list2016[i]\n",
    "print(prft_fnct2016)\n",
    "\n",
    "ALFAL = [prft_fnct2013[1],prft_fnct2014[1],prft_fnct2015[1],prft_fnct2016[1]]\n",
    "print(ALFAL)\n",
    "if(ALFAL[0]>ALFAL[1], ALFAL[0]>ALFAL[2], ALFAL[0]>ALFAL[3]):\n",
    "    alf_opt = 2013\n",
    "elif(ALFAL[1]>ALFAL[0], ALFAL[1]>ALFAL[2], ALFAL[1]>ALFAL[3]):\n",
    "    alf_opt = 2014\n",
    "elif(ALFAL[2]>ALFAL[0], ALFAL[2]>ALFAL[1], ALFAL[2]>ALFAL[3]):\n",
    "    alf_opt = 2015\n",
    "elif(ALFAL[3]>ALFAL[0], ALFAL[3]>ALFAL[2], ALFAL[3]>ALFAL[1]):\n",
    "    alf_opt = 2016\n",
    "print('The more profitable year for alfalfa production is', alf_opt)\n",
    "\n",
    "ALPIS = [prft_fnct2013[2],prft_fnct2014[2],prft_fnct2015[2],prft_fnct2016[2]]\n",
    "print(ALPIS)\n",
    "if(ALPIS[0]>ALPIS[1], ALPIS[0]>ALPIS[2], ALPIS[0]>ALPIS[3]):\n",
    "    alp_opt = 2013\n",
    "elif(ALPIS[1]>ALPIS[0], ALPIS[1]>ALPIS[2], ALPIS[1]>ALPIS[3]):\n",
    "    alp_opt = 2014\n",
    "elif(ALPIS[2]>ALPIS[0], ALPIS[2]>ALPIS[1], ALPIS[2]>ALPIS[3]):\n",
    "    alp_opt = 2015\n",
    "elif(ALPIS[3]>ALPIS[0], ALPIS[3]>ALPIS[2], ALPIS[3]>ALPIS[1]):\n",
    "    alp_opt = 2016\n",
    "print('The more profitable year for almond and pistachio production is', alp_opt)"
   ]
  },
  {
   "cell_type": "markdown",
   "metadata": {},
   "source": [
    "Now to try some file reading:"
   ]
  },
  {
   "cell_type": "code",
   "execution_count": 27,
   "metadata": {},
   "outputs": [
    {
     "name": "stdout",
     "output_type": "stream",
     "text": [
      "# Rows is 40\n",
      "# Columns is 21\n",
      "The profit for alfalfa in regions V08 to V21C is 473782251.2572287\n",
      "The profit for almonds and pistachios in regions V08 to V21C is 5053640490.13529\n"
     ]
    }
   ],
   "source": [
    "import xlrd\n",
    "file_location = 'CAAP_2.0 (Deflated, 2013WY)_python.xlsx'\n",
    "workbook = xlrd.open_workbook(file_location)\n",
    "#All sheets have columns of crop type in order: 'ALFAL','ALPIS','CORN','COTTN','CUCUR','DRYBN','FRTOM','GRAIN','ONGAR','OTHDEC','OTHFLD','OTHTRK','PASTR','POTATO','PRTOM','RICE','SAFLR','SBEET','SUBTRP','VINE'\n",
    "#All sheets have rows of region in order: V01, V02, V03A, V03B, V04, V05, V06, V07, V08, V09, V10, V11, V12, V13, V14A, V14B, V151, V15B, V16, V17, V18, V19A, V19B, V20, V21A, V21B, V21C\n",
    "sheet_price = workbook.sheet_by_index(2)\n",
    "print('# Rows is', sheet_price.nrows)\n",
    "print('# Columns is', sheet_price.ncols)\n",
    "#for col in range (0,sheet_price.ncols):\n",
    "#    for row in range(0, sheet_price.nrows):\n",
    "#        print(sheet_price.cell_value(row,col))\n",
    "sheet_yield = workbook.sheet_by_index(3)\n",
    "sheet_landuse = workbook.sheet_by_index(4)\n",
    "sheet_landcost = workbook.sheet_by_index(5)\n",
    "sheet_aw = workbook.sheet_by_index(6)\n",
    "sheet_labcost = workbook.sheet_by_index(7)\n",
    "sheet_suppcost = workbook.sheet_by_index(8)\n",
    "\n",
    "#Alfalfa profit for V08\n",
    "#profit = [(yield)(price)-(landcost+labcost+suppcost)]*(landuse)\n",
    "#test\n",
    "#profit_alf_V08 = float(sheet_price.cell_value(10,1))*float(sheet_yield.cell_value(10,1))*float(sheet_landuse.cell_value(10,1))-(float(sheet_labcost.cell_value(10,1))+float(sheet_suppcost.cell_value(10,1))+float(sheet_landcost.cell_value(10,1)))*float(sheet_landuse.cell_value(10,1))\n",
    "#print(profit_alf_V08)\n",
    "profit_alf_V08toV21C = [0]*18\n",
    "for i in range(10,28):\n",
    "    profit_alf_V08toV21C[i-10] = float(sheet_price.cell_value(i,1))*float(sheet_yield.cell_value(i,1))*float(sheet_landuse.cell_value(i,1))-(float(sheet_labcost.cell_value(i,1))+float(sheet_suppcost.cell_value(i,1))+float(sheet_landcost.cell_value(i,1)))*float(sheet_landuse.cell_value(i,1))\n",
    "print('The profit for alfalfa in regions V08 to V21C is', sum(profit_alf_V08toV21C[0:18]))\n",
    "profit_alpis_V08toV21C = [0]*18\n",
    "for i in range(10,28):\n",
    "    profit_alpis_V08toV21C[i-10] = float(sheet_price.cell_value(i,2))*float(sheet_yield.cell_value(i,2))*float(sheet_landuse.cell_value(i,2))-(float(sheet_labcost.cell_value(i,2))+float(sheet_suppcost.cell_value(i,2))+float(sheet_landcost.cell_value(i,2)))*float(sheet_landuse.cell_value(i,2))\n",
    "print('The profit for almonds and pistachios in regions V08 to V21C is', sum(profit_alpis_V08toV21C[0:18]))\n",
    "\n",
    "cg_list = ['ALFAL','ALPIS','CORN','COTTN','CUCUR','DRYBN','FRTOM','GRAIN','ONGAR','OTHDEC','OTHFLD','OTHTRK','PASTR','POTATO','PRTOM','RICE','SAFLR','SBEET','SUBTRP','VINE']\n",
    "profit_crop_num_V08toV21C = [0]*(sheet_price.ncols-1)\n",
    "#for crp in range(0,sheet_price.ncols-1):\n",
    "\n"
   ]
  },
  {
   "cell_type": "code",
   "execution_count": null,
   "metadata": {},
   "outputs": [],
   "source": []
  }
 ],
 "metadata": {
  "kernelspec": {
   "display_name": "Python 3",
   "language": "python",
   "name": "python3"
  },
  "language_info": {
   "codemirror_mode": {
    "name": "ipython",
    "version": 3
   },
   "file_extension": ".py",
   "mimetype": "text/x-python",
   "name": "python",
   "nbconvert_exporter": "python",
   "pygments_lexer": "ipython3",
   "version": "3.6.5"
  }
 },
 "nbformat": 4,
 "nbformat_minor": 2
}
